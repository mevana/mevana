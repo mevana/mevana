{
 "cells": [
  {
   "cell_type": "markdown",
   "id": "c8b87563",
   "metadata": {},
   "source": [
    "movieData = read.csv(r"
   ]
  },
  {
   "cell_type": "code",
   "execution_count": 4,
   "id": "db1bf47b",
   "metadata": {},
   "outputs": [],
   "source": [
    "movieData = pd.read_csv(r\"C:\\Users\\Dell\\Desktop\\ProjectsPython\\Customer Segmentation using Machine Learning in R\\k-means-clustering-main\\movie.csv\")"
   ]
  },
  {
   "cell_type": "code",
   "execution_count": 2,
   "id": "c0e31c39",
   "metadata": {},
   "outputs": [],
   "source": [
    "import pandas as pd"
   ]
  },
  {
   "cell_type": "code",
   "execution_count": 8,
   "id": "dd29c7b0",
   "metadata": {},
   "outputs": [
    {
     "data": {
      "text/html": [
       "<div>\n",
       "<style scoped>\n",
       "    .dataframe tbody tr th:only-of-type {\n",
       "        vertical-align: middle;\n",
       "    }\n",
       "\n",
       "    .dataframe tbody tr th {\n",
       "        vertical-align: top;\n",
       "    }\n",
       "\n",
       "    .dataframe thead th {\n",
       "        text-align: right;\n",
       "    }\n",
       "</style>\n",
       "<table border=\"1\" class=\"dataframe\">\n",
       "  <thead>\n",
       "    <tr style=\"text-align: right;\">\n",
       "      <th></th>\n",
       "      <th>Horror</th>\n",
       "      <th>Romcom</th>\n",
       "      <th>Action</th>\n",
       "      <th>Comedy</th>\n",
       "      <th>Fantasy</th>\n",
       "    </tr>\n",
       "  </thead>\n",
       "  <tbody>\n",
       "    <tr>\n",
       "      <th>0</th>\n",
       "      <td>72.5</td>\n",
       "      <td>29.9</td>\n",
       "      <td>68.6</td>\n",
       "      <td>40.7</td>\n",
       "      <td>57.9</td>\n",
       "    </tr>\n",
       "    <tr>\n",
       "      <th>1</th>\n",
       "      <td>82.2</td>\n",
       "      <td>45.3</td>\n",
       "      <td>76.5</td>\n",
       "      <td>17.4</td>\n",
       "      <td>67.7</td>\n",
       "    </tr>\n",
       "    <tr>\n",
       "      <th>2</th>\n",
       "      <td>70.0</td>\n",
       "      <td>44.0</td>\n",
       "      <td>65.1</td>\n",
       "      <td>53.7</td>\n",
       "      <td>37.8</td>\n",
       "    </tr>\n",
       "    <tr>\n",
       "      <th>3</th>\n",
       "      <td>99.1</td>\n",
       "      <td>21.0</td>\n",
       "      <td>77.9</td>\n",
       "      <td>25.4</td>\n",
       "      <td>40.3</td>\n",
       "    </tr>\n",
       "    <tr>\n",
       "      <th>4</th>\n",
       "      <td>84.0</td>\n",
       "      <td>0.0</td>\n",
       "      <td>68.1</td>\n",
       "      <td>49.8</td>\n",
       "      <td>40.0</td>\n",
       "    </tr>\n",
       "  </tbody>\n",
       "</table>\n",
       "</div>"
      ],
      "text/plain": [
       "   Horror  Romcom  Action  Comedy  Fantasy\n",
       "0    72.5    29.9    68.6    40.7     57.9\n",
       "1    82.2    45.3    76.5    17.4     67.7\n",
       "2    70.0    44.0    65.1    53.7     37.8\n",
       "3    99.1    21.0    77.9    25.4     40.3\n",
       "4    84.0     0.0    68.1    49.8     40.0"
      ]
     },
     "execution_count": 8,
     "metadata": {},
     "output_type": "execute_result"
    }
   ],
   "source": [
    "df = pd.DataFrame(movieData)\n",
    "df.head()"
   ]
  },
  {
   "cell_type": "code",
   "execution_count": 12,
   "id": "ad418a13",
   "metadata": {},
   "outputs": [
    {
     "name": "stdout",
     "output_type": "stream",
     "text": [
      "Collecting kneed\n",
      "  Downloading kneed-0.7.0-py2.py3-none-any.whl (9.4 kB)\n",
      "Requirement already satisfied: scipy in c:\\users\\dell\\anaconda new\\lib\\site-packages (from kneed) (1.6.2)\n",
      "Requirement already satisfied: numpy>=1.14.2 in c:\\users\\dell\\anaconda new\\lib\\site-packages (from kneed) (1.19.2)\n",
      "Requirement already satisfied: matplotlib in c:\\users\\dell\\anaconda new\\lib\\site-packages (from kneed) (3.3.4)\n",
      "Requirement already satisfied: cycler>=0.10 in c:\\users\\dell\\anaconda new\\lib\\site-packages (from matplotlib->kneed) (0.10.0)\n",
      "Requirement already satisfied: pyparsing!=2.0.4,!=2.1.2,!=2.1.6,>=2.0.3 in c:\\users\\dell\\anaconda new\\lib\\site-packages (from matplotlib->kneed) (2.4.7)\n",
      "Requirement already satisfied: pillow>=6.2.0 in c:\\users\\dell\\anaconda new\\lib\\site-packages (from matplotlib->kneed) (8.2.0)\n",
      "Requirement already satisfied: kiwisolver>=1.0.1 in c:\\users\\dell\\anaconda new\\lib\\site-packages (from matplotlib->kneed) (1.3.1)\n",
      "Requirement already satisfied: python-dateutil>=2.1 in c:\\users\\dell\\anaconda new\\lib\\site-packages (from matplotlib->kneed) (2.8.1)\n",
      "Requirement already satisfied: six in c:\\users\\dell\\anaconda new\\lib\\site-packages (from cycler>=0.10->matplotlib->kneed) (1.15.0)\n",
      "Installing collected packages: kneed\n",
      "Successfully installed kneed-0.7.0\n"
     ]
    }
   ],
   "source": [
    "!pip install kneed"
   ]
  },
  {
   "cell_type": "code",
   "execution_count": 20,
   "id": "5d51e65b",
   "metadata": {},
   "outputs": [
    {
     "name": "stdout",
     "output_type": "stream",
     "text": [
      "Collecting scalar\n",
      "  Downloading scalar-2018.9.10.2016.tar.gz (5.1 kB)\n",
      "Collecting docopt\n",
      "  Downloading docopt-0.6.2.tar.gz (25 kB)\n",
      "Collecting matrix_client\n",
      "  Downloading matrix_client-0.3.2-py2.py3-none-any.whl (28 kB)\n",
      "Collecting megaparsex\n",
      "  Downloading megaparsex-2018.2.12.2333.tar.gz (20 kB)\n",
      "Collecting pyprel\n",
      "  Downloading pyprel-2018.9.14.1501.tar.gz (8.3 kB)\n",
      "Requirement already satisfied: pyyaml in c:\\users\\dell\\anaconda new\\lib\\site-packages (from scalar) (5.4.1)\n",
      "Collecting technicolor\n",
      "  Downloading technicolor-2017.1.16.1544.tar.gz (15 kB)\n",
      "Requirement already satisfied: requests in c:\\users\\dell\\anaconda new\\lib\\site-packages (from matrix_client->scalar) (2.25.1)\n",
      "Collecting AWRS\n",
      "  Downloading AWRS-2019.8.14.1152.tar.gz (2.9 kB)\n",
      "Requirement already satisfied: psutil in c:\\users\\dell\\anaconda new\\lib\\site-packages (from megaparsex->scalar) (5.8.0)\n",
      "Collecting folktales\n",
      "  Downloading folktales-2018.5.3.245.tar.gz (3.9 kB)\n",
      "Collecting dataset\n",
      "  Downloading dataset-1.5.0-py2.py3-none-any.whl (17 kB)\n",
      "Requirement already satisfied: pandas in c:\\users\\dell\\anaconda new\\lib\\site-packages (from folktales->AWRS->megaparsex->scalar) (1.2.4)\n",
      "Collecting banal>=1.0.1\n",
      "  Downloading banal-1.0.6-py2.py3-none-any.whl (6.1 kB)\n",
      "Requirement already satisfied: sqlalchemy>=1.3.2 in c:\\users\\dell\\anaconda new\\lib\\site-packages (from dataset->folktales->AWRS->megaparsex->scalar) (1.4.7)\n",
      "Collecting alembic>=0.6.2\n",
      "  Downloading alembic-1.6.5-py2.py3-none-any.whl (164 kB)\n",
      "Requirement already satisfied: python-dateutil in c:\\users\\dell\\anaconda new\\lib\\site-packages (from alembic>=0.6.2->dataset->folktales->AWRS->megaparsex->scalar) (2.8.1)\n",
      "Collecting Mako\n",
      "  Downloading Mako-1.1.4-py2.py3-none-any.whl (75 kB)\n",
      "Collecting python-editor>=0.3\n",
      "  Downloading python_editor-1.0.4-py3-none-any.whl (4.9 kB)\n",
      "Requirement already satisfied: greenlet!=0.4.17 in c:\\users\\dell\\anaconda new\\lib\\site-packages (from sqlalchemy>=1.3.2->dataset->folktales->AWRS->megaparsex->scalar) (1.0.0)\n",
      "Requirement already satisfied: MarkupSafe>=0.9.2 in c:\\users\\dell\\anaconda new\\lib\\site-packages (from Mako->alembic>=0.6.2->dataset->folktales->AWRS->megaparsex->scalar) (1.1.1)\n",
      "Requirement already satisfied: pytz>=2017.3 in c:\\users\\dell\\anaconda new\\lib\\site-packages (from pandas->folktales->AWRS->megaparsex->scalar) (2021.1)\n",
      "Requirement already satisfied: numpy>=1.16.5 in c:\\users\\dell\\anaconda new\\lib\\site-packages (from pandas->folktales->AWRS->megaparsex->scalar) (1.19.2)\n",
      "Requirement already satisfied: six>=1.5 in c:\\users\\dell\\anaconda new\\lib\\site-packages (from python-dateutil->alembic>=0.6.2->dataset->folktales->AWRS->megaparsex->scalar) (1.15.0)\n",
      "Requirement already satisfied: Pillow in c:\\users\\dell\\anaconda new\\lib\\site-packages (from pyprel->scalar) (8.2.0)\n",
      "Collecting pyfiglet\n",
      "  Downloading pyfiglet-0.8.post1-py2.py3-none-any.whl (865 kB)\n",
      "Collecting shijian\n",
      "  Downloading shijian-2020.1.29.1857.tar.gz (18 kB)\n",
      "Requirement already satisfied: urllib3<1.27,>=1.21.1 in c:\\users\\dell\\anaconda new\\lib\\site-packages (from requests->matrix_client->scalar) (1.26.4)\n",
      "Requirement already satisfied: certifi>=2017.4.17 in c:\\users\\dell\\anaconda new\\lib\\site-packages (from requests->matrix_client->scalar) (2020.12.5)\n",
      "Requirement already satisfied: idna<3,>=2.5 in c:\\users\\dell\\anaconda new\\lib\\site-packages (from requests->matrix_client->scalar) (2.10)\n",
      "Requirement already satisfied: chardet<5,>=3.0.2 in c:\\users\\dell\\anaconda new\\lib\\site-packages (from requests->matrix_client->scalar) (4.0.0)\n",
      "Requirement already satisfied: ipywidgets in c:\\users\\dell\\anaconda new\\lib\\site-packages (from shijian->pyprel->scalar) (7.6.3)\n",
      "Requirement already satisfied: matplotlib in c:\\users\\dell\\anaconda new\\lib\\site-packages (from shijian->pyprel->scalar) (3.3.4)\n",
      "Requirement already satisfied: scipy in c:\\users\\dell\\anaconda new\\lib\\site-packages (from shijian->pyprel->scalar) (1.6.2)\n",
      "Requirement already satisfied: seaborn in c:\\users\\dell\\anaconda new\\lib\\site-packages (from shijian->pyprel->scalar) (0.11.1)\n",
      "Collecting sklearn\n",
      "  Using cached sklearn-0.0.tar.gz (1.1 kB)\n",
      "Requirement already satisfied: widgetsnbextension~=3.5.0 in c:\\users\\dell\\anaconda new\\lib\\site-packages (from ipywidgets->shijian->pyprel->scalar) (3.5.1)\n",
      "Requirement already satisfied: traitlets>=4.3.1 in c:\\users\\dell\\anaconda new\\lib\\site-packages (from ipywidgets->shijian->pyprel->scalar) (5.0.5)\n",
      "Requirement already satisfied: nbformat>=4.2.0 in c:\\users\\dell\\anaconda new\\lib\\site-packages (from ipywidgets->shijian->pyprel->scalar) (5.1.3)\n",
      "Requirement already satisfied: ipython>=4.0.0 in c:\\users\\dell\\anaconda new\\lib\\site-packages (from ipywidgets->shijian->pyprel->scalar) (7.22.0)\n",
      "Requirement already satisfied: jupyterlab-widgets>=1.0.0 in c:\\users\\dell\\anaconda new\\lib\\site-packages (from ipywidgets->shijian->pyprel->scalar) (1.0.0)\n",
      "Requirement already satisfied: ipykernel>=4.5.1 in c:\\users\\dell\\anaconda new\\lib\\site-packages (from ipywidgets->shijian->pyprel->scalar) (5.5.5)\n",
      "Requirement already satisfied: tornado>=4.2 in c:\\users\\dell\\anaconda new\\lib\\site-packages (from ipykernel>=4.5.1->ipywidgets->shijian->pyprel->scalar) (6.1)\n",
      "Requirement already satisfied: jupyter-client in c:\\users\\dell\\anaconda new\\lib\\site-packages (from ipykernel>=4.5.1->ipywidgets->shijian->pyprel->scalar) (6.1.12)\n",
      "Requirement already satisfied: colorama in c:\\users\\dell\\anaconda new\\lib\\site-packages (from ipython>=4.0.0->ipywidgets->shijian->pyprel->scalar) (0.4.4)\n",
      "Requirement already satisfied: setuptools>=18.5 in c:\\users\\dell\\anaconda new\\lib\\site-packages (from ipython>=4.0.0->ipywidgets->shijian->pyprel->scalar) (52.0.0.post20210125)\n",
      "Requirement already satisfied: backcall in c:\\users\\dell\\anaconda new\\lib\\site-packages (from ipython>=4.0.0->ipywidgets->shijian->pyprel->scalar) (0.2.0)\n",
      "Requirement already satisfied: pickleshare in c:\\users\\dell\\anaconda new\\lib\\site-packages (from ipython>=4.0.0->ipywidgets->shijian->pyprel->scalar) (0.7.5)\n",
      "Requirement already satisfied: prompt-toolkit!=3.0.0,!=3.0.1,<3.1.0,>=2.0.0 in c:\\users\\dell\\anaconda new\\lib\\site-packages (from ipython>=4.0.0->ipywidgets->shijian->pyprel->scalar) (3.0.17)\n",
      "Requirement already satisfied: pygments in c:\\users\\dell\\anaconda new\\lib\\site-packages (from ipython>=4.0.0->ipywidgets->shijian->pyprel->scalar) (2.8.1)\n",
      "Requirement already satisfied: decorator in c:\\users\\dell\\anaconda new\\lib\\site-packages (from ipython>=4.0.0->ipywidgets->shijian->pyprel->scalar) (5.0.6)\n",
      "Requirement already satisfied: jedi>=0.16 in c:\\users\\dell\\anaconda new\\lib\\site-packages (from ipython>=4.0.0->ipywidgets->shijian->pyprel->scalar) (0.17.2)\n",
      "Requirement already satisfied: parso<0.8.0,>=0.7.0 in c:\\users\\dell\\anaconda new\\lib\\site-packages (from jedi>=0.16->ipython>=4.0.0->ipywidgets->shijian->pyprel->scalar) (0.7.0)\n",
      "Requirement already satisfied: jupyter-core in c:\\users\\dell\\anaconda new\\lib\\site-packages (from nbformat>=4.2.0->ipywidgets->shijian->pyprel->scalar) (4.7.1)\n",
      "Requirement already satisfied: ipython-genutils in c:\\users\\dell\\anaconda new\\lib\\site-packages (from nbformat>=4.2.0->ipywidgets->shijian->pyprel->scalar) (0.2.0)\n",
      "Requirement already satisfied: jsonschema!=2.5.0,>=2.4 in c:\\users\\dell\\anaconda new\\lib\\site-packages (from nbformat>=4.2.0->ipywidgets->shijian->pyprel->scalar) (3.2.0)\n",
      "Requirement already satisfied: pyrsistent>=0.14.0 in c:\\users\\dell\\anaconda new\\lib\\site-packages (from jsonschema!=2.5.0,>=2.4->nbformat>=4.2.0->ipywidgets->shijian->pyprel->scalar) (0.17.3)\n",
      "Requirement already satisfied: attrs>=17.4.0 in c:\\users\\dell\\anaconda new\\lib\\site-packages (from jsonschema!=2.5.0,>=2.4->nbformat>=4.2.0->ipywidgets->shijian->pyprel->scalar) (20.3.0)\n",
      "Requirement already satisfied: wcwidth in c:\\users\\dell\\anaconda new\\lib\\site-packages (from prompt-toolkit!=3.0.0,!=3.0.1,<3.1.0,>=2.0.0->ipython>=4.0.0->ipywidgets->shijian->pyprel->scalar) (0.2.5)\n",
      "Requirement already satisfied: notebook>=4.4.1 in c:\\users\\dell\\anaconda new\\lib\\site-packages (from widgetsnbextension~=3.5.0->ipywidgets->shijian->pyprel->scalar) (6.3.0)\n",
      "Requirement already satisfied: nbconvert in c:\\users\\dell\\anaconda new\\lib\\site-packages (from notebook>=4.4.1->widgetsnbextension~=3.5.0->ipywidgets->shijian->pyprel->scalar) (6.0.7)\n",
      "Requirement already satisfied: jinja2 in c:\\users\\dell\\anaconda new\\lib\\site-packages (from notebook>=4.4.1->widgetsnbextension~=3.5.0->ipywidgets->shijian->pyprel->scalar) (2.11.3)\n",
      "Requirement already satisfied: pyzmq>=17 in c:\\users\\dell\\anaconda new\\lib\\site-packages (from notebook>=4.4.1->widgetsnbextension~=3.5.0->ipywidgets->shijian->pyprel->scalar) (19.0.2)\n",
      "Requirement already satisfied: argon2-cffi in c:\\users\\dell\\anaconda new\\lib\\site-packages (from notebook>=4.4.1->widgetsnbextension~=3.5.0->ipywidgets->shijian->pyprel->scalar) (20.1.0)\n",
      "Requirement already satisfied: Send2Trash>=1.5.0 in c:\\users\\dell\\anaconda new\\lib\\site-packages (from notebook>=4.4.1->widgetsnbextension~=3.5.0->ipywidgets->shijian->pyprel->scalar) (1.5.0)\n",
      "Requirement already satisfied: terminado>=0.8.3 in c:\\users\\dell\\anaconda new\\lib\\site-packages (from notebook>=4.4.1->widgetsnbextension~=3.5.0->ipywidgets->shijian->pyprel->scalar) (0.9.4)\n",
      "Requirement already satisfied: prometheus-client in c:\\users\\dell\\anaconda new\\lib\\site-packages (from notebook>=4.4.1->widgetsnbextension~=3.5.0->ipywidgets->shijian->pyprel->scalar) (0.10.1)\n",
      "Requirement already satisfied: pywin32>=1.0 in c:\\users\\dell\\anaconda new\\lib\\site-packages (from jupyter-core->nbformat>=4.2.0->ipywidgets->shijian->pyprel->scalar) (227)\n",
      "Requirement already satisfied: pywinpty>=0.5 in c:\\users\\dell\\anaconda new\\lib\\site-packages (from terminado>=0.8.3->notebook>=4.4.1->widgetsnbextension~=3.5.0->ipywidgets->shijian->pyprel->scalar) (0.5.7)\n",
      "Requirement already satisfied: cffi>=1.0.0 in c:\\users\\dell\\anaconda new\\lib\\site-packages (from argon2-cffi->notebook>=4.4.1->widgetsnbextension~=3.5.0->ipywidgets->shijian->pyprel->scalar) (1.14.5)\n",
      "Requirement already satisfied: pycparser in c:\\users\\dell\\anaconda new\\lib\\site-packages (from cffi>=1.0.0->argon2-cffi->notebook>=4.4.1->widgetsnbextension~=3.5.0->ipywidgets->shijian->pyprel->scalar) (2.20)\n",
      "Requirement already satisfied: kiwisolver>=1.0.1 in c:\\users\\dell\\anaconda new\\lib\\site-packages (from matplotlib->shijian->pyprel->scalar) (1.3.1)\n",
      "Requirement already satisfied: pyparsing!=2.0.4,!=2.1.2,!=2.1.6,>=2.0.3 in c:\\users\\dell\\anaconda new\\lib\\site-packages (from matplotlib->shijian->pyprel->scalar) (2.4.7)\n",
      "Requirement already satisfied: cycler>=0.10 in c:\\users\\dell\\anaconda new\\lib\\site-packages (from matplotlib->shijian->pyprel->scalar) (0.10.0)\n",
      "Requirement already satisfied: pandocfilters>=1.4.1 in c:\\users\\dell\\anaconda new\\lib\\site-packages (from nbconvert->notebook>=4.4.1->widgetsnbextension~=3.5.0->ipywidgets->shijian->pyprel->scalar) (1.4.3)\n",
      "Requirement already satisfied: entrypoints>=0.2.2 in c:\\users\\dell\\anaconda new\\lib\\site-packages (from nbconvert->notebook>=4.4.1->widgetsnbextension~=3.5.0->ipywidgets->shijian->pyprel->scalar) (0.3)\n",
      "Requirement already satisfied: testpath in c:\\users\\dell\\anaconda new\\lib\\site-packages (from nbconvert->notebook>=4.4.1->widgetsnbextension~=3.5.0->ipywidgets->shijian->pyprel->scalar) (0.4.4)\n",
      "Requirement already satisfied: defusedxml in c:\\users\\dell\\anaconda new\\lib\\site-packages (from nbconvert->notebook>=4.4.1->widgetsnbextension~=3.5.0->ipywidgets->shijian->pyprel->scalar) (0.7.1)\n",
      "Requirement already satisfied: jupyterlab-pygments in c:\\users\\dell\\anaconda new\\lib\\site-packages (from nbconvert->notebook>=4.4.1->widgetsnbextension~=3.5.0->ipywidgets->shijian->pyprel->scalar) (0.1.2)\n",
      "Requirement already satisfied: bleach in c:\\users\\dell\\anaconda new\\lib\\site-packages (from nbconvert->notebook>=4.4.1->widgetsnbextension~=3.5.0->ipywidgets->shijian->pyprel->scalar) (1.5.0)\n",
      "Requirement already satisfied: mistune<2,>=0.8.1 in c:\\users\\dell\\anaconda new\\lib\\site-packages (from nbconvert->notebook>=4.4.1->widgetsnbextension~=3.5.0->ipywidgets->shijian->pyprel->scalar) (0.8.4)\n",
      "Requirement already satisfied: nbclient<0.6.0,>=0.5.0 in c:\\users\\dell\\anaconda new\\lib\\site-packages (from nbconvert->notebook>=4.4.1->widgetsnbextension~=3.5.0->ipywidgets->shijian->pyprel->scalar) (0.5.3)\n",
      "Requirement already satisfied: nest-asyncio in c:\\users\\dell\\anaconda new\\lib\\site-packages (from nbclient<0.6.0,>=0.5.0->nbconvert->notebook>=4.4.1->widgetsnbextension~=3.5.0->ipywidgets->shijian->pyprel->scalar) (1.5.1)\n",
      "Requirement already satisfied: async-generator in c:\\users\\dell\\anaconda new\\lib\\site-packages (from nbclient<0.6.0,>=0.5.0->nbconvert->notebook>=4.4.1->widgetsnbextension~=3.5.0->ipywidgets->shijian->pyprel->scalar) (1.10)\n",
      "Requirement already satisfied: html5lib!=0.9999,!=0.99999,<0.99999999,>=0.999 in c:\\users\\dell\\anaconda new\\lib\\site-packages (from bleach->nbconvert->notebook>=4.4.1->widgetsnbextension~=3.5.0->ipywidgets->shijian->pyprel->scalar) (0.9999999)\n",
      "Requirement already satisfied: scikit-learn in c:\\users\\dell\\anaconda new\\lib\\site-packages (from sklearn->shijian->pyprel->scalar) (0.23.1)\n",
      "Requirement already satisfied: joblib>=0.11 in c:\\users\\dell\\anaconda new\\lib\\site-packages (from scikit-learn->sklearn->shijian->pyprel->scalar) (1.0.1)\n",
      "Requirement already satisfied: threadpoolctl>=2.0.0 in c:\\users\\dell\\anaconda new\\lib\\site-packages (from scikit-learn->sklearn->shijian->pyprel->scalar) (2.1.0)\n",
      "Building wheels for collected packages: scalar, docopt, megaparsex, AWRS, folktales, pyprel, shijian, sklearn, technicolor\n",
      "  Building wheel for scalar (setup.py): started\n",
      "  Building wheel for scalar (setup.py): finished with status 'done'\n",
      "  Created wheel for scalar: filename=scalar-2018.9.10.2016-py3-none-any.whl size=5862 sha256=000561b5e05ec6c4e3cf7e3b6d15ea208b469a770e42e3f662153030ac61cd21\n",
      "  Stored in directory: c:\\users\\dell\\appdata\\local\\pip\\cache\\wheels\\cf\\4f\\f2\\f153b48133f093efcb06ab381f7a3db1c505a0bd09fc7e9b4e\n",
      "  Building wheel for docopt (setup.py): started\n",
      "  Building wheel for docopt (setup.py): finished with status 'done'\n",
      "  Created wheel for docopt: filename=docopt-0.6.2-py2.py3-none-any.whl size=13705 sha256=2d0b708cb0f86f3ebf01d5f7d9ba06b07e68e3317e4ff544a285659147307a2c\n",
      "  Stored in directory: c:\\users\\dell\\appdata\\local\\pip\\cache\\wheels\\56\\ea\\58\\ead137b087d9e326852a851351d1debf4ada529b6ac0ec4e8c\n",
      "  Building wheel for megaparsex (setup.py): started\n",
      "  Building wheel for megaparsex (setup.py): finished with status 'done'\n",
      "  Created wheel for megaparsex: filename=megaparsex-2018.2.12.2333-py3-none-any.whl size=18646 sha256=24fb6b38901915b223f2fe7af2e272ab6b38ced04ffeeaa553eec8851d9ce1f5\n",
      "  Stored in directory: c:\\users\\dell\\appdata\\local\\pip\\cache\\wheels\\1d\\ed\\5b\\1f41220111b33d768f643e7d4d30697f687230317a2e0751d6\n",
      "  Building wheel for AWRS (setup.py): started\n",
      "  Building wheel for AWRS (setup.py): finished with status 'done'\n",
      "  Created wheel for AWRS: filename=AWRS-2019.8.14.1152-py3-none-any.whl size=3336 sha256=4bfcdc5137256f64d32af48f67d1e2f71e7729739538eae5ca5db9bbdfbc05c0\n",
      "  Stored in directory: c:\\users\\dell\\appdata\\local\\pip\\cache\\wheels\\29\\ba\\cd\\d04231a609c987df0cd8b9c60c239687da6d065a5cd3d86b39\n",
      "  Building wheel for folktales (setup.py): started\n",
      "  Building wheel for folktales (setup.py): finished with status 'done'\n",
      "  Created wheel for folktales: filename=folktales-2018.5.3.245-py3-none-any.whl size=3970 sha256=b09729a905d247c0ecdbb3e16d62d64dad6e00f1326494feda108e4b74d0d3d7\n",
      "  Stored in directory: c:\\users\\dell\\appdata\\local\\pip\\cache\\wheels\\c0\\b0\\3a\\63632bc3db286b68b51f49cb1402e7f013e26553c158d59a6f\n",
      "  Building wheel for pyprel (setup.py): started\n",
      "  Building wheel for pyprel (setup.py): finished with status 'done'\n",
      "  Created wheel for pyprel: filename=pyprel-2018.9.14.1501-py3-none-any.whl size=8108 sha256=5d851c410c4fe6432678b64641e5e240cfc1d3fe7a1cab0a8d47e19eb4282c67\n",
      "  Stored in directory: c:\\users\\dell\\appdata\\local\\pip\\cache\\wheels\\53\\2b\\41\\f5f33804d56c028c66b3d7bc7104c16f5291da2c1fcb064601\n",
      "  Building wheel for shijian (setup.py): started\n",
      "  Building wheel for shijian (setup.py): finished with status 'done'\n",
      "  Created wheel for shijian: filename=shijian-2020.1.29.1857-py3-none-any.whl size=15607 sha256=fdad6ada523e5dfe150f21cacc68130655a3c90eda634ac7d13ca7aa9be9fac3\n",
      "  Stored in directory: c:\\users\\dell\\appdata\\local\\pip\\cache\\wheels\\71\\31\\58\\8658e51279c506040fe68f07ccda602fb4fb3eccc4dbc6cdd7\n",
      "  Building wheel for sklearn (setup.py): started\n",
      "  Building wheel for sklearn (setup.py): finished with status 'done'\n",
      "  Created wheel for sklearn: filename=sklearn-0.0-py2.py3-none-any.whl size=1316 sha256=41dbc390d4fcbb552ec90c551ac976e0d19f163a7c006cfa8fb76217a95538d8\n",
      "  Stored in directory: c:\\users\\dell\\appdata\\local\\pip\\cache\\wheels\\22\\0b\\40\\fd3f795caaa1fb4c6cb738bc1f56100be1e57da95849bfc897\n",
      "  Building wheel for technicolor (setup.py): started\n",
      "  Building wheel for technicolor (setup.py): finished with status 'done'\n",
      "  Created wheel for technicolor: filename=technicolor-2017.1.16.1544-py3-none-any.whl size=15952 sha256=d158456246f291f0591ce862fe7ee482474a8cb805756eebff0e15cb64c2b514\n",
      "  Stored in directory: c:\\users\\dell\\appdata\\local\\pip\\cache\\wheels\\fc\\8a\\6c\\e89e79fe11df731959af5edf64fb92ca0046100bd2d97d440c\n",
      "Successfully built scalar docopt megaparsex AWRS folktales pyprel shijian sklearn technicolor\n",
      "Installing collected packages: python-editor, Mako, banal, alembic, technicolor, dataset, sklearn, folktales, docopt, shijian, pyfiglet, AWRS, pyprel, megaparsex, matrix-client, scalar\n",
      "Successfully installed AWRS-2019.8.14.1152 Mako-1.1.4 alembic-1.6.5 banal-1.0.6 dataset-1.5.0 docopt-0.6.2 folktales-2018.5.3.245 matrix-client-0.3.2 megaparsex-2018.2.12.2333 pyfiglet-0.8.post1 pyprel-2018.9.14.1501 python-editor-1.0.4 scalar-2018.9.10.2016 shijian-2020.1.29.1857 sklearn-0.0 technicolor-2017.1.16.1544\n"
     ]
    }
   ],
   "source": [
    "!pip install scalar"
   ]
  },
  {
   "cell_type": "code",
   "execution_count": 46,
   "id": "a4eae475",
   "metadata": {},
   "outputs": [],
   "source": [
    "import matplotlib.pyplot as plt\n",
    "from kneed import KneeLocator\n",
    "from sklearn.datasets import make_blobs\n",
    "from sklearn.cluster import KMeans\n",
    "from sklearn.metrics import silhouette_score\n",
    "from sklearn.preprocessing import StandardScaler\n",
    "\n"
   ]
  },
  {
   "cell_type": "code",
   "execution_count": 16,
   "id": "277eb380",
   "metadata": {},
   "outputs": [],
   "source": [
    "df, true_labels = make_blobs( n_samples=200,centers=3,cluster_std=2.75,random_state=42 )"
   ]
  },
  {
   "cell_type": "code",
   "execution_count": 23,
   "id": "85fdb8dd",
   "metadata": {},
   "outputs": [],
   "source": [
    "df[:5]\n",
    "scaler = StandardScaler()"
   ]
  },
  {
   "cell_type": "code",
   "execution_count": 24,
   "id": "6ecf8e21",
   "metadata": {},
   "outputs": [],
   "source": [
    "scaled_features = scaler.fit_transform(df)"
   ]
  },
  {
   "cell_type": "code",
   "execution_count": 25,
   "id": "bdd6a620",
   "metadata": {},
   "outputs": [
    {
     "data": {
      "text/plain": [
       "array([[ 0.57263477, -0.07933223, -0.01518384, -0.6999    ,  0.55971087],\n",
       "       [ 0.97130688,  0.82899545,  0.48205443, -1.73073064,  1.00599602],\n",
       "       [ 0.46988423,  0.75231844, -0.23547927, -0.12475844, -0.35562908],\n",
       "       [ 1.66590054, -0.60427485,  0.5701726 , -1.37679737, -0.24178082],\n",
       "       [ 1.04528727, -1.8429035 , -0.04665461, -0.2973009 , -0.25544261]])"
      ]
     },
     "execution_count": 25,
     "metadata": {},
     "output_type": "execute_result"
    }
   ],
   "source": [
    "scaled_features[:5]"
   ]
  },
  {
   "cell_type": "code",
   "execution_count": 31,
   "id": "fe6006aa",
   "metadata": {},
   "outputs": [
    {
     "data": {
      "text/plain": [
       "KMeans(init='random', n_clusters=3, random_state=42)"
      ]
     },
     "execution_count": 31,
     "metadata": {},
     "output_type": "execute_result"
    }
   ],
   "source": [
    "kmeans.fit(scaled_features)"
   ]
  },
  {
   "cell_type": "code",
   "execution_count": 32,
   "id": "5cecae55",
   "metadata": {},
   "outputs": [
    {
     "data": {
      "text/plain": [
       "555.6589499657723"
      ]
     },
     "execution_count": 32,
     "metadata": {},
     "output_type": "execute_result"
    }
   ],
   "source": [
    "kmeans.inertia_"
   ]
  },
  {
   "cell_type": "code",
   "execution_count": 33,
   "id": "108d1122",
   "metadata": {},
   "outputs": [
    {
     "data": {
      "text/plain": [
       "array([[ 0.04417251, -0.42567226,  0.3462884 ,  0.50618971, -0.78613526],\n",
       "       [ 0.90793426, -0.36901967,  0.43230063, -1.1099991 , -0.03655037],\n",
       "       [-1.3940106 ,  1.21213475, -1.17872838,  0.81728166,  1.29801678]])"
      ]
     },
     "execution_count": 33,
     "metadata": {},
     "output_type": "execute_result"
    }
   ],
   "source": [
    "kmeans.cluster_centers_"
   ]
  },
  {
   "cell_type": "code",
   "execution_count": 34,
   "id": "07aa1b73",
   "metadata": {},
   "outputs": [
    {
     "data": {
      "text/plain": [
       "5"
      ]
     },
     "execution_count": 34,
     "metadata": {},
     "output_type": "execute_result"
    }
   ],
   "source": [
    "kmeans.n_iter_"
   ]
  },
  {
   "cell_type": "code",
   "execution_count": 36,
   "id": "4e142c44",
   "metadata": {
    "scrolled": true
   },
   "outputs": [
    {
     "data": {
      "text/plain": [
       "KMeans(init='random', n_clusters=3, random_state=42)"
      ]
     },
     "execution_count": 36,
     "metadata": {},
     "output_type": "execute_result"
    }
   ],
   "source": [
    "kmeans = KMeans(init=\"random\",  n_clusters=3, n_init=10, max_iter=300, random_state=42 )\n",
    "kmeans"
   ]
  },
  {
   "cell_type": "code",
   "execution_count": 38,
   "id": "3e9c9a71",
   "metadata": {},
   "outputs": [],
   "source": [
    "kmeans = KMeans(3)\n",
    "kfit = kmeans.fit(df)\n",
    "identified_clusters = kfit.predict(df)"
   ]
  },
  {
   "cell_type": "code",
   "execution_count": 39,
   "id": "aa512423",
   "metadata": {},
   "outputs": [],
   "source": [
    "clustered_data = df.copy()\n",
    "clustered_data['Cluster'] = identified_clusters"
   ]
  },
  {
   "cell_type": "code",
   "execution_count": 40,
   "id": "251ab7ac",
   "metadata": {},
   "outputs": [
    {
     "data": {
      "text/html": [
       "<div>\n",
       "<style scoped>\n",
       "    .dataframe tbody tr th:only-of-type {\n",
       "        vertical-align: middle;\n",
       "    }\n",
       "\n",
       "    .dataframe tbody tr th {\n",
       "        vertical-align: top;\n",
       "    }\n",
       "\n",
       "    .dataframe thead th {\n",
       "        text-align: right;\n",
       "    }\n",
       "</style>\n",
       "<table border=\"1\" class=\"dataframe\">\n",
       "  <thead>\n",
       "    <tr style=\"text-align: right;\">\n",
       "      <th></th>\n",
       "      <th>Horror</th>\n",
       "      <th>Romcom</th>\n",
       "      <th>Action</th>\n",
       "      <th>Comedy</th>\n",
       "      <th>Fantasy</th>\n",
       "      <th>Cluster</th>\n",
       "    </tr>\n",
       "  </thead>\n",
       "  <tbody>\n",
       "    <tr>\n",
       "      <th>215</th>\n",
       "      <td>59.8</td>\n",
       "      <td>38.8</td>\n",
       "      <td>72.9</td>\n",
       "      <td>59.0</td>\n",
       "      <td>32.9</td>\n",
       "      <td>0</td>\n",
       "    </tr>\n",
       "    <tr>\n",
       "      <th>199</th>\n",
       "      <td>55.6</td>\n",
       "      <td>5.2</td>\n",
       "      <td>66.6</td>\n",
       "      <td>45.2</td>\n",
       "      <td>20.2</td>\n",
       "      <td>0</td>\n",
       "    </tr>\n",
       "    <tr>\n",
       "      <th>200</th>\n",
       "      <td>48.7</td>\n",
       "      <td>23.8</td>\n",
       "      <td>88.6</td>\n",
       "      <td>65.8</td>\n",
       "      <td>18.1</td>\n",
       "      <td>0</td>\n",
       "    </tr>\n",
       "    <tr>\n",
       "      <th>201</th>\n",
       "      <td>67.6</td>\n",
       "      <td>19.7</td>\n",
       "      <td>88.3</td>\n",
       "      <td>93.7</td>\n",
       "      <td>14.3</td>\n",
       "      <td>0</td>\n",
       "    </tr>\n",
       "    <tr>\n",
       "      <th>202</th>\n",
       "      <td>59.3</td>\n",
       "      <td>16.4</td>\n",
       "      <td>64.6</td>\n",
       "      <td>47.5</td>\n",
       "      <td>12.8</td>\n",
       "      <td>0</td>\n",
       "    </tr>\n",
       "    <tr>\n",
       "      <th>...</th>\n",
       "      <td>...</td>\n",
       "      <td>...</td>\n",
       "      <td>...</td>\n",
       "      <td>...</td>\n",
       "      <td>...</td>\n",
       "      <td>...</td>\n",
       "    </tr>\n",
       "    <tr>\n",
       "      <th>71</th>\n",
       "      <td>71.5</td>\n",
       "      <td>29.7</td>\n",
       "      <td>77.3</td>\n",
       "      <td>33.3</td>\n",
       "      <td>25.6</td>\n",
       "      <td>2</td>\n",
       "    </tr>\n",
       "    <tr>\n",
       "      <th>72</th>\n",
       "      <td>87.3</td>\n",
       "      <td>14.8</td>\n",
       "      <td>81.5</td>\n",
       "      <td>20.1</td>\n",
       "      <td>43.7</td>\n",
       "      <td>2</td>\n",
       "    </tr>\n",
       "    <tr>\n",
       "      <th>73</th>\n",
       "      <td>68.8</td>\n",
       "      <td>56.8</td>\n",
       "      <td>75.1</td>\n",
       "      <td>29.2</td>\n",
       "      <td>50.3</td>\n",
       "      <td>2</td>\n",
       "    </tr>\n",
       "    <tr>\n",
       "      <th>75</th>\n",
       "      <td>83.5</td>\n",
       "      <td>38.6</td>\n",
       "      <td>75.6</td>\n",
       "      <td>29.9</td>\n",
       "      <td>29.2</td>\n",
       "      <td>2</td>\n",
       "    </tr>\n",
       "    <tr>\n",
       "      <th>0</th>\n",
       "      <td>72.5</td>\n",
       "      <td>29.9</td>\n",
       "      <td>68.6</td>\n",
       "      <td>40.7</td>\n",
       "      <td>57.9</td>\n",
       "      <td>2</td>\n",
       "    </tr>\n",
       "  </tbody>\n",
       "</table>\n",
       "<p>291 rows × 6 columns</p>\n",
       "</div>"
      ],
      "text/plain": [
       "     Horror  Romcom  Action  Comedy  Fantasy  Cluster\n",
       "215    59.8    38.8    72.9    59.0     32.9        0\n",
       "199    55.6     5.2    66.6    45.2     20.2        0\n",
       "200    48.7    23.8    88.6    65.8     18.1        0\n",
       "201    67.6    19.7    88.3    93.7     14.3        0\n",
       "202    59.3    16.4    64.6    47.5     12.8        0\n",
       "..      ...     ...     ...     ...      ...      ...\n",
       "71     71.5    29.7    77.3    33.3     25.6        2\n",
       "72     87.3    14.8    81.5    20.1     43.7        2\n",
       "73     68.8    56.8    75.1    29.2     50.3        2\n",
       "75     83.5    38.6    75.6    29.9     29.2        2\n",
       "0      72.5    29.9    68.6    40.7     57.9        2\n",
       "\n",
       "[291 rows x 6 columns]"
      ]
     },
     "metadata": {},
     "output_type": "display_data"
    }
   ],
   "source": [
    "display(clustered_data.sort_values(by='Cluster'))"
   ]
  },
  {
   "cell_type": "code",
   "execution_count": 41,
   "id": "291b5357",
   "metadata": {},
   "outputs": [
    {
     "data": {
      "text/plain": [
       "<matplotlib.collections.PathCollection at 0xa0ac148>"
      ]
     },
     "execution_count": 41,
     "metadata": {},
     "output_type": "execute_result"
    },
    {
     "data": {
      "image/png": "[encoded data removed]",
      "text/plain": [
       "<Figure size 432x288 with 1 Axes>"
      ]
     },
     "metadata": {
      "needs_background": "light"
     },
     "output_type": "display_data"
    }
   ],
   "source": [
    "#Plotting the graph\n",
    "plt.xlabel('Horror')\n",
    "plt.ylabel('Cluster')\n",
    "plt.scatter(clustered_data['Horror'],clustered_data['Cluster'],c=clustered_data['Cluster'])"
   ]
  },
  {
   "cell_type": "code",
   "execution_count": 42,
   "id": "460b2aa5",
   "metadata": {},
   "outputs": [],
   "source": [
    "from sklearn import preprocessing"
   ]
  },
  {
   "cell_type": "code",
   "execution_count": 44,
   "id": "a7880f28",
   "metadata": {},
   "outputs": [],
   "source": [
    "#Passing the values of the dataset to Min-Max-Scaler\n",
    "movies_values = df.values\n",
    "min_max_scaler = preprocessing.MinMaxScaler()\n",
    "x_scaled = min_max_scaler.fit_transform(movies_values)\n",
    "movies_scaled = pd.DataFrame(x_scaled,\n",
    "columns=df.columns)"
   ]
  },
  {
   "cell_type": "code",
   "execution_count": 45,
   "id": "8f71f07c",
   "metadata": {},
   "outputs": [],
   "source": [
    "#Modeling\n",
    "kmeans = KMeans(2)\n",
    "kfit = kmeans.fit(movies_scaled)\n",
    "identified_clusters_scaled = kfit.predict(movies_scaled)"
   ]
  },
  {
   "cell_type": "code",
   "execution_count": 48,
   "id": "43120241",
   "metadata": {},
   "outputs": [
    {
     "data": {
      "text/html": [
       "<div>\n",
       "<style scoped>\n",
       "    .dataframe tbody tr th:only-of-type {\n",
       "        vertical-align: middle;\n",
       "    }\n",
       "\n",
       "    .dataframe tbody tr th {\n",
       "        vertical-align: top;\n",
       "    }\n",
       "\n",
       "    .dataframe thead th {\n",
       "        text-align: right;\n",
       "    }\n",
       "</style>\n",
       "<table border=\"1\" class=\"dataframe\">\n",
       "  <thead>\n",
       "    <tr style=\"text-align: right;\">\n",
       "      <th></th>\n",
       "      <th>Horror</th>\n",
       "      <th>Romcom</th>\n",
       "      <th>Action</th>\n",
       "      <th>Comedy</th>\n",
       "      <th>Fantasy</th>\n",
       "      <th>Cluster</th>\n",
       "    </tr>\n",
       "  </thead>\n",
       "  <tbody>\n",
       "    <tr>\n",
       "      <th>145</th>\n",
       "      <td>24.2</td>\n",
       "      <td>49.9</td>\n",
       "      <td>44.9</td>\n",
       "      <td>50.6</td>\n",
       "      <td>77.0</td>\n",
       "      <td>0</td>\n",
       "    </tr>\n",
       "    <tr>\n",
       "      <th>121</th>\n",
       "      <td>28.5</td>\n",
       "      <td>66.7</td>\n",
       "      <td>48.4</td>\n",
       "      <td>86.2</td>\n",
       "      <td>53.1</td>\n",
       "      <td>0</td>\n",
       "    </tr>\n",
       "    <tr>\n",
       "      <th>122</th>\n",
       "      <td>14.4</td>\n",
       "      <td>44.9</td>\n",
       "      <td>66.7</td>\n",
       "      <td>62.3</td>\n",
       "      <td>86.9</td>\n",
       "      <td>0</td>\n",
       "    </tr>\n",
       "    <tr>\n",
       "      <th>123</th>\n",
       "      <td>27.5</td>\n",
       "      <td>43.4</td>\n",
       "      <td>37.6</td>\n",
       "      <td>63.2</td>\n",
       "      <td>74.9</td>\n",
       "      <td>0</td>\n",
       "    </tr>\n",
       "    <tr>\n",
       "      <th>124</th>\n",
       "      <td>24.4</td>\n",
       "      <td>33.7</td>\n",
       "      <td>24.6</td>\n",
       "      <td>80.1</td>\n",
       "      <td>67.8</td>\n",
       "      <td>0</td>\n",
       "    </tr>\n",
       "    <tr>\n",
       "      <th>...</th>\n",
       "      <td>...</td>\n",
       "      <td>...</td>\n",
       "      <td>...</td>\n",
       "      <td>...</td>\n",
       "      <td>...</td>\n",
       "      <td>...</td>\n",
       "    </tr>\n",
       "    <tr>\n",
       "      <th>23</th>\n",
       "      <td>56.1</td>\n",
       "      <td>20.9</td>\n",
       "      <td>73.8</td>\n",
       "      <td>7.6</td>\n",
       "      <td>23.9</td>\n",
       "      <td>1</td>\n",
       "    </tr>\n",
       "    <tr>\n",
       "      <th>22</th>\n",
       "      <td>80.9</td>\n",
       "      <td>17.4</td>\n",
       "      <td>73.4</td>\n",
       "      <td>39.8</td>\n",
       "      <td>44.2</td>\n",
       "      <td>1</td>\n",
       "    </tr>\n",
       "    <tr>\n",
       "      <th>21</th>\n",
       "      <td>89.4</td>\n",
       "      <td>25.0</td>\n",
       "      <td>92.1</td>\n",
       "      <td>48.0</td>\n",
       "      <td>36.5</td>\n",
       "      <td>1</td>\n",
       "    </tr>\n",
       "    <tr>\n",
       "      <th>31</th>\n",
       "      <td>78.8</td>\n",
       "      <td>0.0</td>\n",
       "      <td>68.9</td>\n",
       "      <td>11.2</td>\n",
       "      <td>51.0</td>\n",
       "      <td>1</td>\n",
       "    </tr>\n",
       "    <tr>\n",
       "      <th>0</th>\n",
       "      <td>72.5</td>\n",
       "      <td>29.9</td>\n",
       "      <td>68.6</td>\n",
       "      <td>40.7</td>\n",
       "      <td>57.9</td>\n",
       "      <td>1</td>\n",
       "    </tr>\n",
       "  </tbody>\n",
       "</table>\n",
       "<p>291 rows × 6 columns</p>\n",
       "</div>"
      ],
      "text/plain": [
       "     Horror  Romcom  Action  Comedy  Fantasy  Cluster\n",
       "145    24.2    49.9    44.9    50.6     77.0        0\n",
       "121    28.5    66.7    48.4    86.2     53.1        0\n",
       "122    14.4    44.9    66.7    62.3     86.9        0\n",
       "123    27.5    43.4    37.6    63.2     74.9        0\n",
       "124    24.4    33.7    24.6    80.1     67.8        0\n",
       "..      ...     ...     ...     ...      ...      ...\n",
       "23     56.1    20.9    73.8     7.6     23.9        1\n",
       "22     80.9    17.4    73.4    39.8     44.2        1\n",
       "21     89.4    25.0    92.1    48.0     36.5        1\n",
       "31     78.8     0.0    68.9    11.2     51.0        1\n",
       "0      72.5    29.9    68.6    40.7     57.9        1\n",
       "\n",
       "[291 rows x 6 columns]"
      ]
     },
     "metadata": {},
     "output_type": "display_data"
    }
   ],
   "source": [
    "#Appending the identified clusters to the dataframe\n",
    "clustered_data_scaled = df.copy()\n",
    "clustered_data_scaled['Cluster'] = identified_clusters_scaled\n",
    "display(clustered_data_scaled.sort_values(by='Cluster'))"
   ]
  }
 ],
 "metadata": {
  "kernelspec": {
   "display_name": "Python 3",
   "language": "python",
   "name": "python3"
  },
  "language_info": {
   "codemirror_mode": {
    "name": "ipython",
    "version": 3
   },
   "file_extension": ".py",
   "mimetype": "text/x-python",
   "name": "python",
   "nbconvert_exporter": "python",
   "pygments_lexer": "ipython3",
   "version": "3.8.8"
  }
 },
 "nbformat": 4,
 "nbformat_minor": 5
}
