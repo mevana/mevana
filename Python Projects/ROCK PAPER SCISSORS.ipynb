{
 "cells": [
  {
   "cell_type": "code",
   "execution_count": 1,
   "id": "3b5ed7e3",
   "metadata": {},
   "outputs": [
    {
     "name": "stderr",
     "output_type": "stream",
     "text": [
      "ERROR: Could not find a version that satisfies the requirement random (from versions: none)\n",
      "ERROR: No matching distribution found for random\n"
     ]
    }
   ],
   "source": [
    "\n",
    "!pip install random"
   ]
  },
  {
   "cell_type": "code",
   "execution_count": 2,
   "id": "8f456857",
   "metadata": {},
   "outputs": [
    {
     "name": "stdout",
     "output_type": "stream",
     "text": [
      "Requirement already satisfied: tk in c:\\users\\dell\\anaconda new\\lib\\site-packages (0.1.0)\n"
     ]
    }
   ],
   "source": [
    "!pip install tk"
   ]
  },
  {
   "cell_type": "code",
   "execution_count": 3,
   "id": "88cb29b9",
   "metadata": {},
   "outputs": [],
   "source": [
    "import random"
   ]
  },
  {
   "cell_type": "code",
   "execution_count": 4,
   "id": "427c73a4",
   "metadata": {},
   "outputs": [],
   "source": [
    "from tkinter import *\n",
    "import random"
   ]
  },
  {
   "cell_type": "code",
   "execution_count": 5,
   "id": "4d430a2e",
   "metadata": {},
   "outputs": [],
   "source": [
    "root = Tk()\n",
    "root.geometry('450x500')\n",
    "root.resizable(0,0)\n",
    "root.title('DataFlair-Rock,Paper,Scissors')\n",
    "root.config(bg ='pale violet red')"
   ]
  },
  {
   "cell_type": "code",
   "execution_count": 6,
   "id": "e8582176",
   "metadata": {},
   "outputs": [],
   "source": [
    "Label(root, text = 'Rock, Paper, Scissors' , font='arial 20 bold', bg = 'pale violet red').pack()"
   ]
  },
  {
   "cell_type": "code",
   "execution_count": 7,
   "id": "cc7f3a22",
   "metadata": {},
   "outputs": [],
   "source": [
    "user_take = StringVar()\n",
    "Label(root, text = 'Choose any one: rock, paper, scissors' , font='arial 15 bold', bg = 'pale violet red').place(x = 40,y=70)\n",
    "Entry(root, font = 'arial 15', textvariable = user_take , bg = 'ghost white').place(x=110 , y = 130)"
   ]
  },
  {
   "cell_type": "code",
   "execution_count": 8,
   "id": "38d9d34c",
   "metadata": {},
   "outputs": [],
   "source": [
    "comp_pick = random.randint(1,3)\n",
    "if comp_pick == 1:\n",
    "    comp_pick = 'rock'\n",
    "elif comp_pick ==2:\n",
    "    comp_pick = 'paper'\n",
    "elif comp_pick == 3:\n",
    "    comp_pick = 'scissors'"
   ]
  },
  {
   "cell_type": "code",
   "execution_count": 9,
   "id": "e2b4facd",
   "metadata": {},
   "outputs": [],
   "source": [
    "Result = StringVar()\n",
    "\n",
    "def Game():\n",
    "    user_pick = user_take.get()\n",
    "    if user_pick == comp_pick:\n",
    "        Result.set('tie,you both select same')\n",
    "    elif user_pick == 'rock' and comp_pick == 'paper':\n",
    "        Result.set('you loose,computer select paper')\n",
    "    elif user_pick == 'rock' and comp_pick == 'scissors':\n",
    "        Result.set('you win,computer select scissors')\n",
    "    elif user_pick == 'paper' and comp_pick == 'scissors':\n",
    "        Result.set('you loose,computer select scissors')\n",
    "    elif user_pick == 'paper' and comp_pick == 'rock':\n",
    "        Result.set('you win,computer select rock')\n",
    "    elif user_pick == 'scissors' and comp_pick == 'rock':\n",
    "        Result.set('you loose,computer select rock')\n",
    "    elif user_pick == 'scissors' and comp_pick == 'paper':\n",
    "        Result.set('you win ,computer select paper')\n",
    "    else:\n",
    "        Result.set('invalid: choose any one from rock, paper, scissors')"
   ]
  },
  {
   "cell_type": "code",
   "execution_count": 10,
   "id": "251ccee3",
   "metadata": {},
   "outputs": [],
   "source": [
    "def Reset():\n",
    "    Result.set(\"\") \n",
    "    user_take.set(\"\")\n"
   ]
  },
  {
   "cell_type": "code",
   "execution_count": 11,
   "id": "54e9d318",
   "metadata": {},
   "outputs": [],
   "source": [
    "def Exit():\n",
    "    root.destroy()"
   ]
  },
  {
   "cell_type": "code",
   "execution_count": 12,
   "id": "18412b54",
   "metadata": {},
   "outputs": [],
   "source": [
    "Entry(root, font = 'arial 10 bold', textvariable = Result, bg ='ghost white',width = 50,).place(x=45, y = 250)\n",
    "\n",
    "Button(root, font = 'arial 13 bold', text = 'PLAY'  ,padx =5,bg ='mint cream' ,command = Game).place(x=190,y=190)\n",
    "\n",
    "Button(root, font = 'arial 13 bold', text = 'RESET'  ,padx =5,bg ='mint cream' ,command = Reset).place(x=80,y=310)\n",
    "\n",
    "Button(root, font = 'arial 13 bold', text = 'EXIT'  ,padx =5,bg ='mint cream' ,command = Exit).place(x=280,y=310)\n",
    "\n",
    "\n",
    "root.mainloop()"
   ]
  },
  {
   "cell_type": "code",
   "execution_count": null,
   "id": "b47fa161",
   "metadata": {},
   "outputs": [],
   "source": []
  }
 ],
 "metadata": {
  "kernelspec": {
   "display_name": "Python 3",
   "language": "python",
   "name": "python3"
  },
  "language_info": {
   "codemirror_mode": {
    "name": "ipython",
    "version": 3
   },
   "file_extension": ".py",
   "mimetype": "text/x-python",
   "name": "python",
   "nbconvert_exporter": "python",
   "pygments_lexer": "ipython3",
   "version": "3.8.8"
  }
 },
 "nbformat": 4,
 "nbformat_minor": 5
}
