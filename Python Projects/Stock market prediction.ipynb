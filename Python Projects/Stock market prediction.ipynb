{
 "cells": [
  {
   "cell_type": "code",
   "execution_count": 45,
   "id": "c811f81d",
   "metadata": {},
   "outputs": [],
   "source": [
    "import numpy as np\n",
    "import pandas as pd\n",
    "from sklearn import preprocessing\n",
    "from sklearn.model_selection import train_test_split\n",
    "from sklearn.linear_model import LinearRegression\n",
    "import matplotlib.pyplot as plt\n",
    "import seaborn as sns"
   ]
  },
  {
   "cell_type": "code",
   "execution_count": 7,
   "id": "b0796d98",
   "metadata": {},
   "outputs": [],
   "source": [
    "def reldata(df,forecast_col,forecast_out,test_size):\n",
    "    label = df[forecast_col].shift(-forecast_out) #creating new column called label with the last 5 rows are nan\n",
    "    X = np.array(df[[forecast_col]]) #creating the feature array\n",
    "    X = preprocessing.scale(X) #processing the feature array\n",
    "    X_lately = X[-forecast_out:] #creating the column i want to use later in the predicting method\n",
    "    X = X[:-forecast_out] # X that will contain the training and testing\n",
    "    label.dropna(inplace=True) #dropping na values\n",
    "    y = np.array(label)  # assigning Y\n",
    "    X_train, X_test, Y_train, Y_test = train_test_split(X, y, test_size=test_size, random_state=0) #cross validation\n",
    "\n",
    "    response = [X_train,X_test , Y_train, Y_test , X_lately]\n",
    "    return response"
   ]
  },
  {
   "cell_type": "code",
   "execution_count": 43,
   "id": "585156cc",
   "metadata": {},
   "outputs": [
    {
     "data": {
      "text/html": [
       "<div>\n",
       "<style scoped>\n",
       "    .dataframe tbody tr th:only-of-type {\n",
       "        vertical-align: middle;\n",
       "    }\n",
       "\n",
       "    .dataframe tbody tr th {\n",
       "        vertical-align: top;\n",
       "    }\n",
       "\n",
       "    .dataframe thead th {\n",
       "        text-align: right;\n",
       "    }\n",
       "</style>\n",
       "<table border=\"1\" class=\"dataframe\">\n",
       "  <thead>\n",
       "    <tr style=\"text-align: right;\">\n",
       "      <th></th>\n",
       "      <th>Date</th>\n",
       "      <th>Open</th>\n",
       "      <th>High</th>\n",
       "      <th>Low</th>\n",
       "      <th>Close</th>\n",
       "      <th>Adj Close</th>\n",
       "      <th>Volume</th>\n",
       "    </tr>\n",
       "  </thead>\n",
       "  <tbody>\n",
       "    <tr>\n",
       "      <th>0</th>\n",
       "      <td>2021-01-04</td>\n",
       "      <td>55.820000</td>\n",
       "      <td>56.120998</td>\n",
       "      <td>53.650002</td>\n",
       "      <td>54.040001</td>\n",
       "      <td>52.908298</td>\n",
       "      <td>4852800</td>\n",
       "    </tr>\n",
       "    <tr>\n",
       "      <th>1</th>\n",
       "      <td>2021-01-05</td>\n",
       "      <td>54.139999</td>\n",
       "      <td>56.169998</td>\n",
       "      <td>54.000000</td>\n",
       "      <td>55.799999</td>\n",
       "      <td>54.631439</td>\n",
       "      <td>3112800</td>\n",
       "    </tr>\n",
       "    <tr>\n",
       "      <th>2</th>\n",
       "      <td>2021-01-06</td>\n",
       "      <td>56.950001</td>\n",
       "      <td>59.209999</td>\n",
       "      <td>56.549999</td>\n",
       "      <td>58.430000</td>\n",
       "      <td>57.206364</td>\n",
       "      <td>6208400</td>\n",
       "    </tr>\n",
       "    <tr>\n",
       "      <th>3</th>\n",
       "      <td>2021-01-07</td>\n",
       "      <td>59.000000</td>\n",
       "      <td>59.770000</td>\n",
       "      <td>58.105000</td>\n",
       "      <td>58.509998</td>\n",
       "      <td>57.284687</td>\n",
       "      <td>4437600</td>\n",
       "    </tr>\n",
       "    <tr>\n",
       "      <th>4</th>\n",
       "      <td>2021-01-08</td>\n",
       "      <td>58.369999</td>\n",
       "      <td>58.860001</td>\n",
       "      <td>57.750000</td>\n",
       "      <td>58.209999</td>\n",
       "      <td>56.990967</td>\n",
       "      <td>4063500</td>\n",
       "    </tr>\n",
       "    <tr>\n",
       "      <th>...</th>\n",
       "      <td>...</td>\n",
       "      <td>...</td>\n",
       "      <td>...</td>\n",
       "      <td>...</td>\n",
       "      <td>...</td>\n",
       "      <td>...</td>\n",
       "      <td>...</td>\n",
       "    </tr>\n",
       "    <tr>\n",
       "      <th>118</th>\n",
       "      <td>2021-06-23</td>\n",
       "      <td>64.000000</td>\n",
       "      <td>64.269997</td>\n",
       "      <td>63.099998</td>\n",
       "      <td>63.150002</td>\n",
       "      <td>63.150002</td>\n",
       "      <td>3254400</td>\n",
       "    </tr>\n",
       "    <tr>\n",
       "      <th>119</th>\n",
       "      <td>2021-06-24</td>\n",
       "      <td>63.779999</td>\n",
       "      <td>63.830002</td>\n",
       "      <td>62.759998</td>\n",
       "      <td>63.110001</td>\n",
       "      <td>63.110001</td>\n",
       "      <td>4253700</td>\n",
       "    </tr>\n",
       "    <tr>\n",
       "      <th>120</th>\n",
       "      <td>2021-06-25</td>\n",
       "      <td>63.250000</td>\n",
       "      <td>63.869999</td>\n",
       "      <td>63.110001</td>\n",
       "      <td>63.290001</td>\n",
       "      <td>63.290001</td>\n",
       "      <td>4258100</td>\n",
       "    </tr>\n",
       "    <tr>\n",
       "      <th>121</th>\n",
       "      <td>2021-06-28</td>\n",
       "      <td>63.299999</td>\n",
       "      <td>63.299999</td>\n",
       "      <td>62.169998</td>\n",
       "      <td>62.900002</td>\n",
       "      <td>62.900002</td>\n",
       "      <td>2727000</td>\n",
       "    </tr>\n",
       "    <tr>\n",
       "      <th>122</th>\n",
       "      <td>2021-06-29</td>\n",
       "      <td>63.279999</td>\n",
       "      <td>63.810001</td>\n",
       "      <td>62.580002</td>\n",
       "      <td>62.980000</td>\n",
       "      <td>62.980000</td>\n",
       "      <td>2652900</td>\n",
       "    </tr>\n",
       "  </tbody>\n",
       "</table>\n",
       "<p>123 rows × 7 columns</p>\n",
       "</div>"
      ],
      "text/plain": [
       "           Date       Open       High        Low      Close  Adj Close  \\\n",
       "0    2021-01-04  55.820000  56.120998  53.650002  54.040001  52.908298   \n",
       "1    2021-01-05  54.139999  56.169998  54.000000  55.799999  54.631439   \n",
       "2    2021-01-06  56.950001  59.209999  56.549999  58.430000  57.206364   \n",
       "3    2021-01-07  59.000000  59.770000  58.105000  58.509998  57.284687   \n",
       "4    2021-01-08  58.369999  58.860001  57.750000  58.209999  56.990967   \n",
       "..          ...        ...        ...        ...        ...        ...   \n",
       "118  2021-06-23  64.000000  64.269997  63.099998  63.150002  63.150002   \n",
       "119  2021-06-24  63.779999  63.830002  62.759998  63.110001  63.110001   \n",
       "120  2021-06-25  63.250000  63.869999  63.110001  63.290001  63.290001   \n",
       "121  2021-06-28  63.299999  63.299999  62.169998  62.900002  62.900002   \n",
       "122  2021-06-29  63.279999  63.810001  62.580002  62.980000  62.980000   \n",
       "\n",
       "      Volume  \n",
       "0    4852800  \n",
       "1    3112800  \n",
       "2    6208400  \n",
       "3    4437600  \n",
       "4    4063500  \n",
       "..       ...  \n",
       "118  3254400  \n",
       "119  4253700  \n",
       "120  4258100  \n",
       "121  2727000  \n",
       "122  2652900  \n",
       "\n",
       "[123 rows x 7 columns]"
      ]
     },
     "execution_count": 43,
     "metadata": {},
     "output_type": "execute_result"
    }
   ],
   "source": [
    "df = pd.read_csv(r\"C:\\Users\\Dell\\Desktop\\ProjectsPython\\Stock market prediction\\DOW.csv\")\n",
    "#df = df[df.symbol == \"GOOG\"]\n",
    "#ax = df[df.symbol=='AAPL'].plot()\n",
    "\n",
    "#df[df.symbol=='GOOG'].plot(ax=ax)\n",
    "\n",
    "#df[df.symbol=='MSFT'].plot(ax=ax)\n",
    "\n",
    "#plt.show()\n",
    "df"
   ]
  },
  {
   "cell_type": "code",
   "execution_count": 65,
   "id": "476bf66f",
   "metadata": {},
   "outputs": [
    {
     "data": {
      "text/plain": [
       "<seaborn.axisgrid.FacetGrid at 0xae2e5b0>"
      ]
     },
     "execution_count": 65,
     "metadata": {},
     "output_type": "execute_result"
    },
    {
     "data": {
      "image/png": "[encoded data removed]",
      "text/plain": [
       "<Figure size 360x360 with 1 Axes>"
      ]
     },
     "metadata": {
      "needs_background": "light"
     },
     "output_type": "display_data"
    }
   ],
   "source": [
    "#f.head(20)\n",
    "\n",
    "\n",
    "sns.relplot(x = \"Date\",y =\"Open\", data = df.head(10))"
   ]
  },
  {
   "cell_type": "code",
   "execution_count": 62,
   "id": "6f053950",
   "metadata": {},
   "outputs": [
    {
     "data": {
      "text/plain": [
       "<AxesSubplot:xlabel='Date'>"
      ]
     },
     "execution_count": 62,
     "metadata": {},
     "output_type": "execute_result"
    },
    {
     "data": {
      "image/png": "[encoded data removed]",
      "text/plain": [
       "<Figure size 432x288 with 1 Axes>"
      ]
     },
     "metadata": {
      "needs_background": "light"
     },
     "output_type": "display_data"
    }
   ],
   "source": [
    "df.plot(x='Date', y='Volume')"
   ]
  },
  {
   "cell_type": "code",
   "execution_count": 33,
   "id": "e9750b85",
   "metadata": {},
   "outputs": [],
   "source": [
    "forecast_col = 'Close'\n",
    "forecast_out = 100\n",
    "test_size = 0.2"
   ]
  },
  {
   "cell_type": "code",
   "execution_count": 34,
   "id": "1a698d7f",
   "metadata": {},
   "outputs": [
    {
     "data": {
      "text/plain": [
       "LinearRegression()"
      ]
     },
     "execution_count": 34,
     "metadata": {},
     "output_type": "execute_result"
    }
   ],
   "source": [
    "X_train, X_test, Y_train, Y_test , X_lately = reldata(df,forecast_col,forecast_out,test_size); #calling the method were the cross validation and data preperation is in\n",
    "learner = LinearRegression() #initializing linear regression model\n",
    "\n",
    "learner.fit(X_train,Y_train) #training the linear regression model"
   ]
  },
  {
   "cell_type": "code",
   "execution_count": 35,
   "id": "a612323b",
   "metadata": {},
   "outputs": [
    {
     "name": "stdout",
     "output_type": "stream",
     "text": [
      "{'test_score': -0.16834719880876992, 'forecast_set': array([67.24056007, 67.33576046, 66.68664325, 67.61271714, 67.61271714,\n",
      "       68.02815562, 68.54744766, 68.36569571, 67.51751588, 69.96684978,\n",
      "       71.77572395, 71.46414683, 72.82296553, 70.79771895, 69.03212272,\n",
      "       70.96216458, 71.99209636, 71.57666134, 70.6678981 , 72.14788449,\n",
      "       72.60659313, 71.58531451, 73.16915878, 73.36822486, 73.38553119,\n",
      "       72.13923133, 72.38156669, 74.83090405, 73.71442157, 73.01337411,\n",
      "       72.66717653, 70.27842691, 71.39490939, 72.4334978 , 73.08261502,\n",
      "       73.00472095, 73.61921772, 73.03933794, 73.61056022, 73.6019036 ,\n",
      "       73.61056022, 73.08261502, 72.39022072, 72.34694624, 72.90951623,\n",
      "       72.49408121, 73.29898396, 73.58459726, 73.67980112, 73.56729007,\n",
      "       71.77572395, 73.80096967, 70.43421504, 71.45549366, 71.53338773,\n",
      "       71.92285892, 72.49408121, 73.14319583, 71.79303375, 73.56729007,\n",
      "       75.01265601, 76.61381094, 77.45333674, 77.45333674, 77.18503669,\n",
      "       77.04655575, 76.20702909, 76.62246757, 78.13707441, 79.07180493,\n",
      "       77.87742492, 77.02924856, 76.7782557 , 77.27158479, 77.89473818,\n",
      "       77.45333674, 77.91204538, 77.12445328, 76.91673058, 78.63906012,\n",
      "       77.37543921, 78.81215545, 78.60443967, 77.62643207, 77.74759975,\n",
      "       77.28023449, 76.54457004, 76.55322667, 75.6531166 , 75.87814563,\n",
      "       74.46739322, 72.69314382, 71.34297914, 72.32098328, 72.65852337,\n",
      "       72.35560373, 72.32098328, 72.47677141, 72.13923133, 72.20846877])}\n"
     ]
    }
   ],
   "source": [
    "\n",
    "score=learner.score(X_test,Y_test)#testing the linear regression model\n",
    "forecast= learner.predict(X_lately) #set that will contain the forecasted data\n",
    "response={}#creting json object\n",
    "response['test_score']=score\n",
    "response['forecast_set']=forecast\n",
    "\n",
    "print(response)"
   ]
  },
  {
   "cell_type": "code",
   "execution_count": 40,
   "id": "a86c26de",
   "metadata": {},
   "outputs": [
    {
     "data": {
      "image/png": "[encoded data removed]",
      "text/plain": [
       "<Figure size 432x288 with 1 Axes>"
      ]
     },
     "metadata": {
      "needs_background": "light"
     },
     "output_type": "display_data"
    }
   ],
   "source": [
    "plt.plot(forecast)\n",
    "plt.title('DOW forecast for 6 Months')\n",
    "plt.ylabel('Forecast')\n",
    "plt.xlabel('Samples')\n",
    "plt.show()"
   ]
  },
  {
   "cell_type": "code",
   "execution_count": null,
   "id": "14dffda3",
   "metadata": {},
   "outputs": [],
   "source": []
  }
 ],
 "metadata": {
  "kernelspec": {
   "display_name": "Python 3",
   "language": "python",
   "name": "python3"
  },
  "language_info": {
   "codemirror_mode": {
    "name": "ipython",
    "version": 3
   },
   "file_extension": ".py",
   "mimetype": "text/x-python",
   "name": "python",
   "nbconvert_exporter": "python",
   "pygments_lexer": "ipython3",
   "version": "3.8.8"
  }
 },
 "nbformat": 4,
 "nbformat_minor": 5
}
